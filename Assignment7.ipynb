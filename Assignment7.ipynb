{
 "cells": [
  {
   "cell_type": "code",
   "execution_count": 2,
   "id": "ecfc320b-e972-4d0a-8605-5740eccdbd14",
   "metadata": {},
   "outputs": [],
   "source": [
    "#Question 1\n",
    "#Abstraction is use to create blue print or skleton for use classes again\n",
    "#and again\n",
    "import abc\n",
    "class student:\n",
    "    @abc.abstractmethod\n",
    "    def name(self):\n",
    "        pass\n",
    "    @abc.abstractmethod\n",
    "    def rollNo(self):\n",
    "        pass\n",
    "    @abc.abstractmethod\n",
    "    def branch(self):\n",
    "        pass    "
   ]
  },
  {
   "cell_type": "code",
   "execution_count": 3,
   "id": "e1a6705c-ed24-4cfa-8d7f-da0ce1901172",
   "metadata": {},
   "outputs": [],
   "source": [
    "#Question 2\n",
    "#Abstraction is use to create blue print or skleton for use classes again\n",
    "#and again\n",
    "#In Encapsulation we hide data and bind it like capsule\n",
    "#code for abstraction\n",
    "import abc\n",
    "class student:\n",
    "    @abc.abstractmethod\n",
    "    def name(self):\n",
    "        pass\n",
    "    @abc.abstractmethod\n",
    "    def rollNo(self):\n",
    "        pass\n",
    "    @abc.abstractmethod\n",
    "    def branch(self):\n",
    "        pass    "
   ]
  },
  {
   "cell_type": "code",
   "execution_count": 4,
   "id": "e7b3b043-21f3-4dc4-bca8-c79cfd1e3e06",
   "metadata": {},
   "outputs": [],
   "source": [
    "#code for Encapsulation\n",
    "class car:\n",
    "    def __init__(self,year,model,speed,color):\n",
    "        self.__year=year    \n",
    "        self.__model=model\n",
    "        self.__speed=speed\n",
    "        self.__color=color\n",
    "\n",
    "    def set_speed(self,speed):\n",
    "         self.__speed = 0 if speed < 0 else speed\n",
    "    def get_speed(self) :\n",
    "         return self.__speed"
   ]
  },
  {
   "cell_type": "code",
   "execution_count": 5,
   "id": "8a6d53e4-1f5c-44bc-8c40-1a88a2e04c5a",
   "metadata": {},
   "outputs": [],
   "source": [
    "#Question 3\n",
    "#abc method is use to tell that given function belong to abstract class\n",
    "#We use abc method to call abstract class"
   ]
  },
  {
   "cell_type": "code",
   "execution_count": null,
   "id": "a155fea9-106d-4d69-b805-d1d12f28b56a",
   "metadata": {},
   "outputs": [],
   "source": [
    "#Question 4\n",
    "#we can achive Abstraction BY USING Getter or setter function"
   ]
  }
 ],
 "metadata": {
  "kernelspec": {
   "display_name": "Python 3 (ipykernel)",
   "language": "python",
   "name": "python3"
  },
  "language_info": {
   "codemirror_mode": {
    "name": "ipython",
    "version": 3
   },
   "file_extension": ".py",
   "mimetype": "text/x-python",
   "name": "python",
   "nbconvert_exporter": "python",
   "pygments_lexer": "ipython3",
   "version": "3.11.3"
  }
 },
 "nbformat": 4,
 "nbformat_minor": 5
}
